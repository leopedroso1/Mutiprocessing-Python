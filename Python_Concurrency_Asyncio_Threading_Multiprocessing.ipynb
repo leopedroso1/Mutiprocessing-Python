{
  "nbformat": 4,
  "nbformat_minor": 0,
  "metadata": {
    "colab": {
      "name": "Python Concurrency- Asyncio / Threading / Multiprocessing.ipynb",
      "provenance": [],
      "authorship_tag": "ABX9TyNpdFpFpsBmRclR9O63Q4em",
      "include_colab_link": true
    },
    "kernelspec": {
      "name": "python3",
      "display_name": "Python 3"
    },
    "language_info": {
      "name": "python"
    },
    "accelerator": "GPU"
  },
  "cells": [
    {
      "cell_type": "markdown",
      "metadata": {
        "id": "view-in-github",
        "colab_type": "text"
      },
      "source": [
        "<a href=\"https://colab.research.google.com/github/leopedroso1/Mutiprocessing-Python/blob/main/Python_Concurrency_Asyncio_Threading_Multiprocessing.ipynb\" target=\"_parent\"><img src=\"https://colab.research.google.com/assets/colab-badge.svg\" alt=\"Open In Colab\"/></a>"
      ]
    },
    {
      "cell_type": "markdown",
      "metadata": {
        "id": "iqKmkR8FhpyN"
      },
      "source": [
        "### **What Is Concurrency?**\n",
        "\n",
        "The dictionary definition of **concurrency is simultaneous occurrence**. In Python, the things that are occurring simultaneously are called by different names **(thread, task, process)** but at a high level, they all refer to a sequence of instructions that run in order.\n",
        "\n",
        "I like to think of them as different trains of thought. Each one can be stopped at certain points, and the CPU or brain that is processing them can switch to a different one. The state of each one is saved so it can be restarted right where it was interrupted.\n",
        "\n",
        "You might wonder why Python uses different words for the same concept. It turns out that threads, tasks, and processes are only the same if you view them from a high level. Once you start digging into the details, they all represent slightly different things. You’ll see more of how they are different as you progress through the examples.\n",
        "\n",
        "Now let’s talk about the simultaneous part of that definition. You have to be a little careful because, when you get down to the details, **only multiprocessing actually runs these trains of thought at literally the same time**. **Threading and asyncio both run on a single processor and therefore only run one at a time**. They just cleverly find ways to take turns to speed up the overall process. Even though they don’t run different trains of thought simultaneously, we still call this concurrency.\n"
      ]
    },
    {
      "cell_type": "markdown",
      "metadata": {
        "id": "yLQV1iDl5lA0"
      },
      "source": [
        "The way the threads or tasks take turns is the big difference between threading and asyncio. **In threading, the operating system actually knows about each thread and can interrupt it at any time to start running a different thread. This is called pre-emptive multitasking since the operating system can pre-empt your thread to make the switch.**\n",
        "\n",
        "Pre-emptive multitasking is handy in that the code in the thread doesn’t need to do anything to make the switch. It can also be difficult because of that “at any time” phrase. This switch can happen in the middle of a single Python statement, even a trivial one like x = x + 1.\n",
        "\n",
        "**Asyncio, on the other hand, uses cooperative multitasking. The tasks must cooperate by announcing when they are ready to be switched out. That means that the code in the task has to change slightly to make this happen.**\n",
        "\n",
        "The **benefit of doing this extra work up front is that you always know where your task will be swapped out**. It will not be swapped out in the middle of a Python statement unless that statement is marked. You’ll see later how this can simplify parts of your design.\n"
      ]
    },
    {
      "cell_type": "markdown",
      "metadata": {
        "id": "oX1cJSTC54ny"
      },
      "source": [
        "### **What Is Parallelism?**\n",
        "So far, you’ve looked at concurrency that happens on a single processor. What about all of those CPU cores your cool, new laptop has? How can you make use of them? multiprocessing is the answer.\n",
        "\n",
        "With multiprocessing, Python creates new processes. A process here can be thought of as almost a completely different program, though technically they’re usually defined as a collection of resources where the resources include memory, file handles and things like that. One way to think about it is that each process runs in its own Python interpreter.\n",
        "\n",
        "Because they are different processes, each of your trains of thought in a multiprocessing program can run on a different core. Running on a different core means that they actually can run at the same time, which is fabulous. There are some complications that arise from doing this, but Python does a pretty good job of smoothing them over most of the time.\n",
        "\n",
        "Now that you have an idea of what concurrency and parallelism are, let’s review their differences, and then we can look at why they can be useful:"
      ]
    },
    {
      "cell_type": "markdown",
      "metadata": {
        "id": "JgHQDYA4YgZW"
      },
      "source": [
        ""
      ]
    },
    {
      "cell_type": "markdown",
      "metadata": {
        "id": "cL5yEhrw6DLS"
      },
      "source": [
        "###**When Is Concurrency Useful?**\n",
        "Concurrency can make a big difference for two types of problems. These are generally called CPU-bound and I/O-bound.\n",
        "\n",
        "I/O-bound problems cause your program to slow down because it frequently must wait for input/output (I/O) from some external resource. They arise frequently when your program is working with things that are much slower than your CPU.\n",
        "\n",
        "Examples of things that are slower than your CPU are legion, but your program thankfully does not interact with most of them. The slow things your program will interact with most frequently are the file system and network connections."
      ]
    },
    {
      "cell_type": "markdown",
      "metadata": {
        "id": "SnLHimC4YsT2"
      },
      "source": [
        ""
      ]
    },
    {
      "cell_type": "markdown",
      "metadata": {
        "id": "lY7D9c9cYs0v"
      },
      "source": [
        "In the diagram above, the blue boxes show time when your program is doing work, and the red boxes are time spent waiting for an I/O operation to complete. This diagram is not to scale because requests on the internet can take several orders of magnitude longer than CPU instructions, so your program can end up spending most of its time waiting. This is what your browser is doing most of the time.\n",
        "\n",
        "On the flip side, there are classes of programs that do significant computation without talking to the network or accessing a file. These are the CPU-bound programs, because the resource limiting the speed of your program is the CPU, not the network or the file system.\n",
        "\n",
        "Here’s a corresponding diagram for a CPU-bound program:"
      ]
    },
    {
      "cell_type": "markdown",
      "metadata": {
        "id": "GwKGCO5gYw7J"
      },
      "source": [
        ""
      ]
    },
    {
      "cell_type": "markdown",
      "metadata": {
        "id": "gLuIfH8vY9YC"
      },
      "source": [
        "As you work through the examples in the following section, you’ll see that different forms of concurrency work better or worse with CPU-bound and I/O-bound programs. Adding concurrency to your program adds extra code and complications, so you’ll need to decide if the potential speed up is worth the extra effort. By the end of this article, you should have enough info to start making that decision."
      ]
    },
    {
      "cell_type": "markdown",
      "metadata": {
        "id": "6mr2_sRpZDQj"
      },
      "source": [
        "I/O-Bound Process\tCPU-Bound Process\n",
        "Your program spends most of its time talking to a slow device, like a network connection, a hard drive, or a printer.\tYou program spends most of its time doing CPU operations.\n",
        "Speeding it up involves overlapping the times spent waiting for these devices.\tSpeeding it up involves finding ways to do more computations in the same amount of time."
      ]
    },
    {
      "cell_type": "markdown",
      "metadata": {
        "id": "k6ODjloBb07K"
      },
      "source": [
        "### **How to Speed Up an I/O-Bound Program**"
      ]
    },
    {
      "cell_type": "code",
      "metadata": {
        "colab": {
          "base_uri": "https://localhost:8080/"
        },
        "id": "yYvqHM1Ri5nl",
        "outputId": "5e4c6d05-f665-45c8-fafa-631587b55328"
      },
      "source": [
        "# Synchronous Version\n",
        "\n",
        "import requests\n",
        "import time\n",
        "\n",
        "def download_site(url, session):\n",
        "    with session.get(url) as response:\n",
        "        print(f\"Read {len(response.content)} from {url}\")\n",
        "\n",
        "\n",
        "def download_all_sites(sites):\n",
        "    with requests.Session() as session:\n",
        "        for url in sites:\n",
        "            download_site(url, session)\n",
        "\n",
        "\n",
        "if __name__ == \"__main__\":\n",
        "    sites = [\n",
        "        \"https://www.jython.org\",\n",
        "        \"http://olympus.realpython.org/dice\",\n",
        "    ] * 80\n",
        "    start_time = time.time()\n",
        "    download_all_sites(sites)\n",
        "    duration = time.time() - start_time\n",
        "    print(f\"Downloaded {len(sites)} in {duration} seconds\")"
      ],
      "execution_count": null,
      "outputs": [
        {
          "output_type": "stream",
          "name": "stdout",
          "text": [
            "Read 10490 from https://www.jython.org\n",
            "Read 278 from http://olympus.realpython.org/dice\n",
            "Read 10490 from https://www.jython.org\n",
            "Read 278 from http://olympus.realpython.org/dice\n",
            "Read 10490 from https://www.jython.org\n",
            "Read 278 from http://olympus.realpython.org/dice\n",
            "Read 10490 from https://www.jython.org\n",
            "Read 278 from http://olympus.realpython.org/dice\n",
            "Read 10490 from https://www.jython.org\n",
            "Read 278 from http://olympus.realpython.org/dice\n",
            "Read 10490 from https://www.jython.org\n",
            "Read 278 from http://olympus.realpython.org/dice\n",
            "Read 10490 from https://www.jython.org\n",
            "Read 278 from http://olympus.realpython.org/dice\n",
            "Read 10490 from https://www.jython.org\n",
            "Read 278 from http://olympus.realpython.org/dice\n",
            "Read 10490 from https://www.jython.org\n",
            "Read 278 from http://olympus.realpython.org/dice\n",
            "Read 10490 from https://www.jython.org\n",
            "Read 278 from http://olympus.realpython.org/dice\n",
            "Read 10490 from https://www.jython.org\n",
            "Read 278 from http://olympus.realpython.org/dice\n",
            "Read 10490 from https://www.jython.org\n",
            "Read 278 from http://olympus.realpython.org/dice\n",
            "Read 10490 from https://www.jython.org\n",
            "Read 278 from http://olympus.realpython.org/dice\n",
            "Read 10490 from https://www.jython.org\n",
            "Read 278 from http://olympus.realpython.org/dice\n",
            "Read 10490 from https://www.jython.org\n",
            "Read 278 from http://olympus.realpython.org/dice\n",
            "Read 10490 from https://www.jython.org\n",
            "Read 278 from http://olympus.realpython.org/dice\n",
            "Read 10490 from https://www.jython.org\n",
            "Read 278 from http://olympus.realpython.org/dice\n",
            "Read 10490 from https://www.jython.org\n",
            "Read 278 from http://olympus.realpython.org/dice\n",
            "Read 10490 from https://www.jython.org\n",
            "Read 278 from http://olympus.realpython.org/dice\n",
            "Read 10490 from https://www.jython.org\n",
            "Read 278 from http://olympus.realpython.org/dice\n",
            "Read 10490 from https://www.jython.org\n",
            "Read 278 from http://olympus.realpython.org/dice\n",
            "Read 10490 from https://www.jython.org\n",
            "Read 278 from http://olympus.realpython.org/dice\n",
            "Read 10490 from https://www.jython.org\n",
            "Read 278 from http://olympus.realpython.org/dice\n",
            "Read 10490 from https://www.jython.org\n",
            "Read 278 from http://olympus.realpython.org/dice\n",
            "Read 10490 from https://www.jython.org\n",
            "Read 278 from http://olympus.realpython.org/dice\n",
            "Read 10490 from https://www.jython.org\n",
            "Read 278 from http://olympus.realpython.org/dice\n",
            "Read 10490 from https://www.jython.org\n",
            "Read 278 from http://olympus.realpython.org/dice\n",
            "Read 10490 from https://www.jython.org\n",
            "Read 278 from http://olympus.realpython.org/dice\n",
            "Read 10490 from https://www.jython.org\n",
            "Read 278 from http://olympus.realpython.org/dice\n",
            "Read 10490 from https://www.jython.org\n",
            "Read 278 from http://olympus.realpython.org/dice\n",
            "Read 10490 from https://www.jython.org\n",
            "Read 278 from http://olympus.realpython.org/dice\n",
            "Read 10490 from https://www.jython.org\n",
            "Read 278 from http://olympus.realpython.org/dice\n",
            "Read 10490 from https://www.jython.org\n",
            "Read 278 from http://olympus.realpython.org/dice\n",
            "Read 10490 from https://www.jython.org\n",
            "Read 278 from http://olympus.realpython.org/dice\n",
            "Read 10490 from https://www.jython.org\n",
            "Read 278 from http://olympus.realpython.org/dice\n",
            "Read 10490 from https://www.jython.org\n",
            "Read 278 from http://olympus.realpython.org/dice\n",
            "Read 10490 from https://www.jython.org\n",
            "Read 278 from http://olympus.realpython.org/dice\n",
            "Read 10490 from https://www.jython.org\n",
            "Read 278 from http://olympus.realpython.org/dice\n",
            "Read 10490 from https://www.jython.org\n",
            "Read 278 from http://olympus.realpython.org/dice\n",
            "Read 10490 from https://www.jython.org\n",
            "Read 278 from http://olympus.realpython.org/dice\n",
            "Read 10490 from https://www.jython.org\n",
            "Read 278 from http://olympus.realpython.org/dice\n",
            "Read 10490 from https://www.jython.org\n",
            "Read 278 from http://olympus.realpython.org/dice\n",
            "Read 10490 from https://www.jython.org\n",
            "Read 278 from http://olympus.realpython.org/dice\n",
            "Read 10490 from https://www.jython.org\n",
            "Read 278 from http://olympus.realpython.org/dice\n",
            "Read 10490 from https://www.jython.org\n",
            "Read 278 from http://olympus.realpython.org/dice\n",
            "Read 10490 from https://www.jython.org\n",
            "Read 278 from http://olympus.realpython.org/dice\n",
            "Read 10490 from https://www.jython.org\n",
            "Read 278 from http://olympus.realpython.org/dice\n",
            "Read 10490 from https://www.jython.org\n",
            "Read 278 from http://olympus.realpython.org/dice\n",
            "Read 10490 from https://www.jython.org\n",
            "Read 278 from http://olympus.realpython.org/dice\n",
            "Read 10490 from https://www.jython.org\n",
            "Read 278 from http://olympus.realpython.org/dice\n",
            "Read 10490 from https://www.jython.org\n",
            "Read 278 from http://olympus.realpython.org/dice\n",
            "Read 10490 from https://www.jython.org\n",
            "Read 278 from http://olympus.realpython.org/dice\n",
            "Read 10490 from https://www.jython.org\n",
            "Read 278 from http://olympus.realpython.org/dice\n",
            "Read 10490 from https://www.jython.org\n",
            "Read 278 from http://olympus.realpython.org/dice\n",
            "Read 10490 from https://www.jython.org\n",
            "Read 278 from http://olympus.realpython.org/dice\n",
            "Read 10490 from https://www.jython.org\n",
            "Read 278 from http://olympus.realpython.org/dice\n",
            "Read 10490 from https://www.jython.org\n",
            "Read 278 from http://olympus.realpython.org/dice\n",
            "Read 10490 from https://www.jython.org\n",
            "Read 278 from http://olympus.realpython.org/dice\n",
            "Read 10490 from https://www.jython.org\n",
            "Read 278 from http://olympus.realpython.org/dice\n",
            "Read 10490 from https://www.jython.org\n",
            "Read 278 from http://olympus.realpython.org/dice\n",
            "Read 10490 from https://www.jython.org\n",
            "Read 278 from http://olympus.realpython.org/dice\n",
            "Read 10490 from https://www.jython.org\n",
            "Read 278 from http://olympus.realpython.org/dice\n",
            "Read 10490 from https://www.jython.org\n",
            "Read 278 from http://olympus.realpython.org/dice\n",
            "Read 10490 from https://www.jython.org\n",
            "Read 278 from http://olympus.realpython.org/dice\n",
            "Read 10490 from https://www.jython.org\n",
            "Read 278 from http://olympus.realpython.org/dice\n",
            "Read 10490 from https://www.jython.org\n",
            "Read 278 from http://olympus.realpython.org/dice\n",
            "Read 10490 from https://www.jython.org\n",
            "Read 278 from http://olympus.realpython.org/dice\n",
            "Read 10490 from https://www.jython.org\n",
            "Read 278 from http://olympus.realpython.org/dice\n",
            "Read 10490 from https://www.jython.org\n",
            "Read 278 from http://olympus.realpython.org/dice\n",
            "Read 10490 from https://www.jython.org\n",
            "Read 278 from http://olympus.realpython.org/dice\n",
            "Read 10490 from https://www.jython.org\n",
            "Read 278 from http://olympus.realpython.org/dice\n",
            "Read 10490 from https://www.jython.org\n",
            "Read 278 from http://olympus.realpython.org/dice\n",
            "Read 10490 from https://www.jython.org\n",
            "Read 278 from http://olympus.realpython.org/dice\n",
            "Read 10490 from https://www.jython.org\n",
            "Read 278 from http://olympus.realpython.org/dice\n",
            "Read 10490 from https://www.jython.org\n",
            "Read 278 from http://olympus.realpython.org/dice\n",
            "Read 10490 from https://www.jython.org\n",
            "Read 278 from http://olympus.realpython.org/dice\n",
            "Read 10490 from https://www.jython.org\n",
            "Read 278 from http://olympus.realpython.org/dice\n",
            "Read 10490 from https://www.jython.org\n",
            "Read 278 from http://olympus.realpython.org/dice\n",
            "Read 10490 from https://www.jython.org\n",
            "Read 278 from http://olympus.realpython.org/dice\n",
            "Read 10490 from https://www.jython.org\n",
            "Read 278 from http://olympus.realpython.org/dice\n",
            "Downloaded 160 in 2.3323209285736084 seconds\n"
          ]
        }
      ]
    },
    {
      "cell_type": "markdown",
      "metadata": {
        "id": "SgqpAPRQbt5L"
      },
      "source": [
        "### **Threading**"
      ]
    },
    {
      "cell_type": "code",
      "metadata": {
        "colab": {
          "base_uri": "https://localhost:8080/"
        },
        "id": "Qvi-MDBQhl27",
        "outputId": "fe27c29a-a57b-48c1-bf81-1fd67b1567c7"
      },
      "source": [
        "# Threading Version\n",
        "\n",
        "import concurrent.futures\n",
        "import requests\n",
        "import threading\n",
        "import time\n",
        "\n",
        "thread_local = threading.local()\n",
        "\n",
        "\n",
        "def get_session():\n",
        "    if not hasattr(thread_local, \"session\"):\n",
        "        thread_local.session = requests.Session()\n",
        "    return thread_local.session\n",
        "\n",
        "\n",
        "def download_site(url):\n",
        "    session = get_session()\n",
        "    with session.get(url) as response:\n",
        "        print(f\"Read {len(response.content)} from {url}\")\n",
        "\n",
        "\n",
        "def download_all_sites(sites):\n",
        "    with concurrent.futures.ThreadPoolExecutor(max_workers=5) as executor:\n",
        "        executor.map(download_site, sites)\n",
        "\n",
        "\n",
        "if __name__ == \"__main__\":\n",
        "    sites = [\n",
        "        \"https://www.jython.org\",\n",
        "        \"http://olympus.realpython.org/dice\",\n",
        "    ] * 80\n",
        "\n",
        "    start_time = time.time()\n",
        "    download_all_sites(sites)\n",
        "    duration = time.time() - start_time\n",
        "\n",
        "    print(f\"Downloaded {len(sites)} in {duration} seconds\")\n"
      ],
      "execution_count": 1,
      "outputs": [
        {
          "output_type": "stream",
          "name": "stdout",
          "text": [
            "Read 278 from http://olympus.realpython.org/dice\n",
            "Read 278 from http://olympus.realpython.org/dice\n",
            "Read 10490 from https://www.jython.org\n",
            "Read 278 from http://olympus.realpython.org/dice\n",
            "Read 10490 from https://www.jython.org\n",
            "Read 10490 from https://www.jython.org\n",
            "Read 10490 from https://www.jython.org\n",
            "Read 10490 from https://www.jython.org\n",
            "Read 278 from http://olympus.realpython.org/dice\n",
            "Read 278 from http://olympus.realpython.org/dice\n",
            "Read 278 from http://olympus.realpython.org/dice\n",
            "Read 10490 from https://www.jython.org\n",
            "Read 10490 from https://www.jython.org\n",
            "Read 10490 from https://www.jython.org\n",
            "Read 278 from http://olympus.realpython.org/dice\n",
            "Read 10490 from https://www.jython.org\n",
            "Read 278 from http://olympus.realpython.org/dice\n",
            "Read 10490 from https://www.jython.org\n",
            "Read 278 from http://olympus.realpython.org/dice\n",
            "Read 10490 from https://www.jython.org\n",
            "Read 278 from http://olympus.realpython.org/dice\n",
            "Read 278 from http://olympus.realpython.org/dice\n",
            "Read 10490 from https://www.jython.org\n",
            "Read 278 from http://olympus.realpython.org/dice\n",
            "Read 10490 from https://www.jython.org\n",
            "Read 10490 from https://www.jython.org\n",
            "Read 278 from http://olympus.realpython.org/dice\n",
            "Read 278 from http://olympus.realpython.org/dice\n",
            "Read 10490 from https://www.jython.org\n",
            "Read 10490 from https://www.jython.org\n",
            "Read 278 from http://olympus.realpython.org/dice\n",
            "Read 278 from http://olympus.realpython.org/dice\n",
            "Read 10490 from https://www.jython.org\n",
            "Read 10490 from https://www.jython.orgRead 278 from http://olympus.realpython.org/dice\n",
            "\n",
            "Read 278 from http://olympus.realpython.org/dice\n",
            "Read 10490 from https://www.jython.orgRead 278 from http://olympus.realpython.org/dice\n",
            "Read 10490 from https://www.jython.org\n",
            "\n",
            "Read 278 from http://olympus.realpython.org/dice\n",
            "Read 10490 from https://www.jython.org\n",
            "Read 10490 from https://www.jython.org\n",
            "Read 278 from http://olympus.realpython.org/dice\n",
            "Read 278 from http://olympus.realpython.org/dice\n",
            "Read 10490 from https://www.jython.org\n",
            "Read 10490 from https://www.jython.org\n",
            "Read 278 from http://olympus.realpython.org/dice\n",
            "Read 278 from http://olympus.realpython.org/dice\n",
            "Read 10490 from https://www.jython.org\n",
            "Read 10490 from https://www.jython.org\n",
            "Read 278 from http://olympus.realpython.org/dice\n",
            "Read 10490 from https://www.jython.org\n",
            "Read 278 from http://olympus.realpython.org/dice\n",
            "Read 278 from http://olympus.realpython.org/dice\n",
            "Read 10490 from https://www.jython.org\n",
            "Read 278 from http://olympus.realpython.org/dice\n",
            "Read 10490 from https://www.jython.org\n",
            "Read 278 from http://olympus.realpython.org/dice\n",
            "Read 10490 from https://www.jython.org\n",
            "Read 278 from http://olympus.realpython.org/dice\n",
            "Read 10490 from https://www.jython.org\n",
            "Read 278 from http://olympus.realpython.org/dice\n",
            "Read 10490 from https://www.jython.org\n",
            "Read 278 from http://olympus.realpython.org/dice\n",
            "Read 10490 from https://www.jython.org\n",
            "Read 278 from http://olympus.realpython.org/dice\n",
            "Read 10490 from https://www.jython.org\n",
            "Read 278 from http://olympus.realpython.org/dice\n",
            "Read 10490 from https://www.jython.org\n",
            "Read 278 from http://olympus.realpython.org/dice\n",
            "Read 10490 from https://www.jython.org\n",
            "Read 278 from http://olympus.realpython.org/dice\n",
            "Read 278 from http://olympus.realpython.org/dice\n",
            "Read 10490 from https://www.jython.org\n",
            "Read 278 from http://olympus.realpython.org/dice\n",
            "Read 10490 from https://www.jython.org\n",
            "Read 10490 from https://www.jython.org\n",
            "Read 278 from http://olympus.realpython.org/dice\n",
            "Read 278 from http://olympus.realpython.org/dice\n",
            "Read 10490 from https://www.jython.org\n",
            "Read 10490 from https://www.jython.org\n",
            "Read 10490 from https://www.jython.org\n",
            "Read 10490 from https://www.jython.org\n",
            "Read 278 from http://olympus.realpython.org/diceRead 278 from http://olympus.realpython.org/dice\n",
            "\n",
            "Read 10490 from https://www.jython.org\n",
            "Read 10490 from https://www.jython.org\n",
            "Read 278 from http://olympus.realpython.org/dice\n",
            "Read 10490 from https://www.jython.org\n",
            "Read 278 from http://olympus.realpython.org/dice\n",
            "Read 10490 from https://www.jython.org\n",
            "Read 10490 from https://www.jython.org\n",
            "Read 278 from http://olympus.realpython.org/dice\n",
            "Read 278 from http://olympus.realpython.org/dice\n",
            "Read 10490 from https://www.jython.org\n",
            "Read 278 from http://olympus.realpython.org/dice\n",
            "Read 278 from http://olympus.realpython.org/dice\n",
            "Read 10490 from https://www.jython.orgRead 10490 from https://www.jython.org\n",
            "\n",
            "Read 278 from http://olympus.realpython.org/dice\n",
            "Read 10490 from https://www.jython.org\n",
            "Read 278 from http://olympus.realpython.org/dice\n",
            "Read 278 from http://olympus.realpython.org/dice\n",
            "Read 10490 from https://www.jython.org\n",
            "Read 278 from http://olympus.realpython.org/dice\n",
            "Read 10490 from https://www.jython.org\n",
            "Read 10490 from https://www.jython.org\n",
            "Read 278 from http://olympus.realpython.org/dice\n",
            "Read 278 from http://olympus.realpython.org/dice\n",
            "Read 10490 from https://www.jython.org\n",
            "Read 10490 from https://www.jython.org\n",
            "Read 278 from http://olympus.realpython.org/dice\n",
            "Read 10490 from https://www.jython.org\n",
            "Read 278 from http://olympus.realpython.org/dice\n",
            "Read 10490 from https://www.jython.org\n",
            "Read 278 from http://olympus.realpython.org/dice\n",
            "Read 10490 from https://www.jython.org\n",
            "Read 278 from http://olympus.realpython.org/diceRead 10490 from https://www.jython.org\n",
            "\n",
            "Read 278 from http://olympus.realpython.org/dice\n",
            "Read 10490 from https://www.jython.org\n",
            "Read 278 from http://olympus.realpython.org/dice\n",
            "Read 278 from http://olympus.realpython.org/dice\n",
            "Read 10490 from https://www.jython.org\n",
            "Read 10490 from https://www.jython.org\n",
            "Read 278 from http://olympus.realpython.org/dice\n",
            "Read 278 from http://olympus.realpython.org/dice\n",
            "Read 278 from http://olympus.realpython.org/diceRead 10490 from https://www.jython.org\n",
            "\n",
            "Read 10490 from https://www.jython.orgRead 10490 from https://www.jython.org\n",
            "\n",
            "Read 278 from http://olympus.realpython.org/dice\n",
            "Read 278 from http://olympus.realpython.org/dice\n",
            "Read 10490 from https://www.jython.org\n",
            "Read 278 from http://olympus.realpython.org/dice\n",
            "Read 10490 from https://www.jython.org\n",
            "Read 10490 from https://www.jython.org\n",
            "Read 278 from http://olympus.realpython.org/dice\n",
            "Read 10490 from https://www.jython.org\n",
            "Read 278 from http://olympus.realpython.org/dice\n",
            "Read 278 from http://olympus.realpython.org/dice\n",
            "Read 10490 from https://www.jython.org\n",
            "Read 10490 from https://www.jython.org\n",
            "Read 278 from http://olympus.realpython.org/dice\n",
            "Read 10490 from https://www.jython.org\n",
            "Read 278 from http://olympus.realpython.org/dice\n",
            "Read 10490 from https://www.jython.org\n",
            "Read 278 from http://olympus.realpython.org/diceRead 278 from http://olympus.realpython.org/dice\n",
            "\n",
            "Read 10490 from https://www.jython.orgRead 278 from http://olympus.realpython.org/dice\n",
            "\n",
            "Read 10490 from https://www.jython.org\n",
            "Read 278 from http://olympus.realpython.org/dice\n",
            "Read 10490 from https://www.jython.org\n",
            "Read 278 from http://olympus.realpython.org/dice\n",
            "Read 10490 from https://www.jython.org\n",
            "Read 10490 from https://www.jython.org\n",
            "Read 278 from http://olympus.realpython.org/dice\n",
            "Read 278 from http://olympus.realpython.org/dice\n",
            "Read 278 from http://olympus.realpython.org/dice\n",
            "Downloaded 160 in 1.1880393028259277 seconds\n"
          ]
        }
      ]
    },
    {
      "cell_type": "code",
      "metadata": {
        "colab": {
          "base_uri": "https://localhost:8080/"
        },
        "id": "BdEinR9qDGOv",
        "outputId": "92019499-689f-4f57-a4a0-d7ed39f0b8fe"
      },
      "source": [
        "!pip install aiohttp"
      ],
      "execution_count": null,
      "outputs": [
        {
          "output_type": "stream",
          "name": "stdout",
          "text": [
            "Collecting aiohttp\n",
            "  Downloading aiohttp-3.7.4.post0-cp37-cp37m-manylinux2014_x86_64.whl (1.3 MB)\n",
            "\u001b[K     |████████████████████████████████| 1.3 MB 6.9 MB/s \n",
            "\u001b[?25hCollecting multidict<7.0,>=4.5\n",
            "  Downloading multidict-5.1.0-cp37-cp37m-manylinux2014_x86_64.whl (142 kB)\n",
            "\u001b[K     |████████████████████████████████| 142 kB 68.4 MB/s \n",
            "\u001b[?25hRequirement already satisfied: attrs>=17.3.0 in /usr/local/lib/python3.7/dist-packages (from aiohttp) (21.2.0)\n",
            "Collecting async-timeout<4.0,>=3.0\n",
            "  Downloading async_timeout-3.0.1-py3-none-any.whl (8.2 kB)\n",
            "Requirement already satisfied: typing-extensions>=3.6.5 in /usr/local/lib/python3.7/dist-packages (from aiohttp) (3.7.4.3)\n",
            "Requirement already satisfied: chardet<5.0,>=2.0 in /usr/local/lib/python3.7/dist-packages (from aiohttp) (3.0.4)\n",
            "Collecting yarl<2.0,>=1.0\n",
            "  Downloading yarl-1.6.3-cp37-cp37m-manylinux2014_x86_64.whl (294 kB)\n",
            "\u001b[K     |████████████████████████████████| 294 kB 55.2 MB/s \n",
            "\u001b[?25hRequirement already satisfied: idna>=2.0 in /usr/local/lib/python3.7/dist-packages (from yarl<2.0,>=1.0->aiohttp) (2.10)\n",
            "Installing collected packages: multidict, yarl, async-timeout, aiohttp\n",
            "Successfully installed aiohttp-3.7.4.post0 async-timeout-3.0.1 multidict-5.1.0 yarl-1.6.3\n"
          ]
        }
      ]
    },
    {
      "cell_type": "markdown",
      "metadata": {
        "id": "uB1y7Yvcbpnt"
      },
      "source": [
        "### **Asyncio**"
      ]
    },
    {
      "cell_type": "code",
      "metadata": {
        "colab": {
          "base_uri": "https://localhost:8080/",
          "height": 130
        },
        "id": "E89NntzwDRcx",
        "outputId": "086c4f9b-356f-4a62-fc0b-8d93de976462"
      },
      "source": [
        "import asyncio\n",
        "import time\n",
        "import aiohttp\n",
        "\n",
        "\n",
        "async def download_site(session, url):\n",
        "    async with session.get(url) as response:\n",
        "        print(\"Read {0} from {1}\".format(response.content_length, url))\n",
        "\n",
        "\n",
        "async def download_all_sites(sites):\n",
        "    async with aiohttp.ClientSession() as session:\n",
        "        tasks = []\n",
        "        for url in sites:\n",
        "            task = asyncio.ensure_future(download_site(session, url))\n",
        "            tasks.append(task)\n",
        "        await asyncio.gather(*tasks, return_exceptions=True)\n",
        "\n",
        "\n",
        "if __name__ == \"__main__\":\n",
        "    sites = [\n",
        "        \"https://www.jython.org\",\n",
        "        \"http://olympus.realpython.org/dice\",\n",
        "    ] * 80\n",
        "\n",
        "    start_time = time.time()\n",
        "    await asyncio.run(download_all_sites(sites))\n",
        "#    asyncio.get_event_loop().run_until_complete(download_all_sites(sites))\n",
        "    duration = time.time() - start_time\n",
        "    \n",
        "    print(f\"Downloaded {len(sites)} sites in {duration} seconds\")"
      ],
      "execution_count": null,
      "outputs": [
        {
          "output_type": "error",
          "ename": "SyntaxError",
          "evalue": "ignored",
          "traceback": [
            "\u001b[0;36m  File \u001b[0;32m\"<ipython-input-13-5da9b2cbd95f>\"\u001b[0;36m, line \u001b[0;32m27\u001b[0m\n\u001b[0;31m    await asyncio.run(download_all_sites(sites))\u001b[0m\n\u001b[0m    ^\u001b[0m\n\u001b[0;31mSyntaxError\u001b[0m\u001b[0;31m:\u001b[0m 'await' outside function\n"
          ]
        }
      ]
    },
    {
      "cell_type": "markdown",
      "metadata": {
        "id": "7WAl0sp8blld"
      },
      "source": [
        "### **Multiprocessing**"
      ]
    },
    {
      "cell_type": "code",
      "metadata": {
        "colab": {
          "base_uri": "https://localhost:8080/"
        },
        "id": "SCg_3hGEEDv0",
        "outputId": "6b8a89d6-c89f-40c7-8bcc-42c55b744053"
      },
      "source": [
        "import requests\n",
        "import multiprocessing\n",
        "import time\n",
        "\n",
        "session = None\n",
        "\n",
        "\n",
        "def set_global_session():\n",
        "    global session\n",
        "    if not session:\n",
        "        session = requests.Session()\n",
        "\n",
        "\n",
        "def download_site(url):\n",
        "    with session.get(url) as response:\n",
        "        name = multiprocessing.current_process().name\n",
        "        print(f\"{name}:Read {len(response.content)} from {url}\")\n",
        "\n",
        "\n",
        "def download_all_sites(sites):\n",
        "    with multiprocessing.Pool(initializer=set_global_session) as pool:\n",
        "        pool.map(download_site, sites)\n",
        "\n",
        "\n",
        "if __name__ == \"__main__\":\n",
        "    sites = [\n",
        "        \"https://www.jython.org\",\n",
        "        \"http://olympus.realpython.org/dice\",\n",
        "    ] * 80\n",
        "    start_time = time.time()\n",
        "    download_all_sites(sites)\n",
        "    duration = time.time() - start_time\n",
        "    print(f\"Downloaded {len(sites)} in {duration} seconds\")"
      ],
      "execution_count": 2,
      "outputs": [
        {
          "output_type": "stream",
          "name": "stdout",
          "text": [
            "ForkPoolWorker-1:Read 10490 from https://www.jython.org\n",
            "ForkPoolWorker-2:Read 10490 from https://www.jython.org\n",
            "ForkPoolWorker-2:Read 278 from http://olympus.realpython.org/dice\n",
            "ForkPoolWorker-1:Read 278 from http://olympus.realpython.org/dice\n",
            "ForkPoolWorker-2:Read 10490 from https://www.jython.org\n",
            "ForkPoolWorker-1:Read 10490 from https://www.jython.org\n",
            "ForkPoolWorker-2:Read 278 from http://olympus.realpython.org/dice\n",
            "ForkPoolWorker-1:Read 278 from http://olympus.realpython.org/dice\n",
            "ForkPoolWorker-2:Read 10490 from https://www.jython.org\n",
            "ForkPoolWorker-1:Read 10490 from https://www.jython.org\n",
            "ForkPoolWorker-2:Read 278 from http://olympus.realpython.org/dice\n",
            "ForkPoolWorker-1:Read 278 from http://olympus.realpython.org/dice\n",
            "ForkPoolWorker-2:Read 10490 from https://www.jython.org\n",
            "ForkPoolWorker-1:Read 10490 from https://www.jython.org\n",
            "ForkPoolWorker-2:Read 278 from http://olympus.realpython.org/dice\n",
            "ForkPoolWorker-1:Read 278 from http://olympus.realpython.org/dice\n",
            "ForkPoolWorker-2:Read 10490 from https://www.jython.org\n",
            "ForkPoolWorker-1:Read 10490 from https://www.jython.org\n",
            "ForkPoolWorker-2:Read 278 from http://olympus.realpython.org/dice\n",
            "ForkPoolWorker-1:Read 278 from http://olympus.realpython.org/dice\n",
            "ForkPoolWorker-2:Read 10490 from https://www.jython.org\n",
            "ForkPoolWorker-1:Read 10490 from https://www.jython.org\n",
            "ForkPoolWorker-2:Read 278 from http://olympus.realpython.org/dice\n",
            "ForkPoolWorker-2:Read 10490 from https://www.jython.org\n",
            "ForkPoolWorker-1:Read 278 from http://olympus.realpython.org/dice\n",
            "ForkPoolWorker-1:Read 10490 from https://www.jython.org\n",
            "ForkPoolWorker-2:Read 278 from http://olympus.realpython.org/dice\n",
            "ForkPoolWorker-1:Read 278 from http://olympus.realpython.org/dice\n",
            "ForkPoolWorker-2:Read 10490 from https://www.jython.org\n",
            "ForkPoolWorker-1:Read 10490 from https://www.jython.org\n",
            "ForkPoolWorker-2:Read 278 from http://olympus.realpython.org/dice\n",
            "ForkPoolWorker-1:Read 278 from http://olympus.realpython.org/dice\n",
            "ForkPoolWorker-2:Read 10490 from https://www.jython.org\n",
            "ForkPoolWorker-1:Read 10490 from https://www.jython.org\n",
            "ForkPoolWorker-2:Read 278 from http://olympus.realpython.org/dice\n",
            "ForkPoolWorker-1:Read 278 from http://olympus.realpython.org/dice\n",
            "ForkPoolWorker-2:Read 10490 from https://www.jython.org\n",
            "ForkPoolWorker-1:Read 10490 from https://www.jython.org\n",
            "ForkPoolWorker-2:Read 278 from http://olympus.realpython.org/dice\n",
            "ForkPoolWorker-1:Read 278 from http://olympus.realpython.org/dice\n",
            "ForkPoolWorker-2:Read 10490 from https://www.jython.org\n",
            "ForkPoolWorker-1:Read 10490 from https://www.jython.org\n",
            "ForkPoolWorker-2:Read 278 from http://olympus.realpython.org/dice\n",
            "ForkPoolWorker-1:Read 278 from http://olympus.realpython.org/dice\n",
            "ForkPoolWorker-2:Read 10490 from https://www.jython.org\n",
            "ForkPoolWorker-1:Read 10490 from https://www.jython.org\n",
            "ForkPoolWorker-2:Read 278 from http://olympus.realpython.org/dice\n",
            "ForkPoolWorker-1:Read 278 from http://olympus.realpython.org/dice\n",
            "ForkPoolWorker-2:Read 10490 from https://www.jython.org\n",
            "ForkPoolWorker-1:Read 10490 from https://www.jython.org\n",
            "ForkPoolWorker-2:Read 278 from http://olympus.realpython.org/dice\n",
            "ForkPoolWorker-2:Read 10490 from https://www.jython.org\n",
            "ForkPoolWorker-1:Read 278 from http://olympus.realpython.org/dice\n",
            "ForkPoolWorker-1:Read 10490 from https://www.jython.org\n",
            "ForkPoolWorker-2:Read 278 from http://olympus.realpython.org/dice\n",
            "ForkPoolWorker-1:Read 278 from http://olympus.realpython.org/dice\n",
            "ForkPoolWorker-1:Read 10490 from https://www.jython.org\n",
            "ForkPoolWorker-2:Read 10490 from https://www.jython.org\n",
            "ForkPoolWorker-1:Read 278 from http://olympus.realpython.org/dice\n",
            "ForkPoolWorker-2:Read 278 from http://olympus.realpython.org/dice\n",
            "ForkPoolWorker-1:Read 10490 from https://www.jython.org\n",
            "ForkPoolWorker-2:Read 10490 from https://www.jython.org\n",
            "ForkPoolWorker-1:Read 278 from http://olympus.realpython.org/dice\n",
            "ForkPoolWorker-2:Read 278 from http://olympus.realpython.org/dice\n",
            "ForkPoolWorker-1:Read 10490 from https://www.jython.org\n",
            "ForkPoolWorker-2:Read 10490 from https://www.jython.org\n",
            "ForkPoolWorker-2:Read 278 from http://olympus.realpython.org/dice\n",
            "ForkPoolWorker-1:Read 278 from http://olympus.realpython.org/dice\n",
            "ForkPoolWorker-2:Read 10490 from https://www.jython.org\n",
            "ForkPoolWorker-1:Read 10490 from https://www.jython.org\n",
            "ForkPoolWorker-2:Read 278 from http://olympus.realpython.org/dice\n",
            "ForkPoolWorker-1:Read 278 from http://olympus.realpython.org/dice\n",
            "ForkPoolWorker-2:Read 10490 from https://www.jython.org\n",
            "ForkPoolWorker-1:Read 10490 from https://www.jython.org\n",
            "ForkPoolWorker-2:Read 278 from http://olympus.realpython.org/dice\n",
            "ForkPoolWorker-2:Read 10490 from https://www.jython.org\n",
            "ForkPoolWorker-1:Read 278 from http://olympus.realpython.org/dice\n",
            "ForkPoolWorker-1:Read 10490 from https://www.jython.org\n",
            "ForkPoolWorker-2:Read 278 from http://olympus.realpython.org/dice\n",
            "ForkPoolWorker-2:Read 10490 from https://www.jython.org\n",
            "ForkPoolWorker-1:Read 278 from http://olympus.realpython.org/dice\n",
            "ForkPoolWorker-1:Read 10490 from https://www.jython.org\n",
            "ForkPoolWorker-2:Read 278 from http://olympus.realpython.org/dice\n",
            "ForkPoolWorker-2:Read 10490 from https://www.jython.org\n",
            "ForkPoolWorker-1:Read 278 from http://olympus.realpython.org/dice\n",
            "ForkPoolWorker-2:Read 278 from http://olympus.realpython.org/dice\n",
            "ForkPoolWorker-1:Read 10490 from https://www.jython.org\n",
            "ForkPoolWorker-2:Read 10490 from https://www.jython.org\n",
            "ForkPoolWorker-1:Read 278 from http://olympus.realpython.org/dice\n",
            "ForkPoolWorker-2:Read 278 from http://olympus.realpython.org/dice\n",
            "ForkPoolWorker-1:Read 10490 from https://www.jython.org\n",
            "ForkPoolWorker-2:Read 10490 from https://www.jython.org\n",
            "ForkPoolWorker-1:Read 278 from http://olympus.realpython.org/dice\n",
            "ForkPoolWorker-2:Read 278 from http://olympus.realpython.org/dice\n",
            "ForkPoolWorker-1:Read 10490 from https://www.jython.org\n",
            "ForkPoolWorker-2:Read 10490 from https://www.jython.org\n",
            "ForkPoolWorker-1:Read 278 from http://olympus.realpython.org/dice\n",
            "ForkPoolWorker-2:Read 278 from http://olympus.realpython.org/dice\n",
            "ForkPoolWorker-1:Read 10490 from https://www.jython.org\n",
            "ForkPoolWorker-2:Read 10490 from https://www.jython.org\n",
            "ForkPoolWorker-1:Read 278 from http://olympus.realpython.org/dice\n",
            "ForkPoolWorker-2:Read 278 from http://olympus.realpython.org/dice\n",
            "ForkPoolWorker-1:Read 10490 from https://www.jython.org\n",
            "ForkPoolWorker-2:Read 10490 from https://www.jython.org\n",
            "ForkPoolWorker-1:Read 278 from http://olympus.realpython.org/dice\n",
            "ForkPoolWorker-2:Read 278 from http://olympus.realpython.org/dice\n",
            "ForkPoolWorker-1:Read 10490 from https://www.jython.org\n",
            "ForkPoolWorker-2:Read 10490 from https://www.jython.org\n",
            "ForkPoolWorker-1:Read 278 from http://olympus.realpython.org/dice\n",
            "ForkPoolWorker-2:Read 278 from http://olympus.realpython.org/dice\n",
            "ForkPoolWorker-1:Read 10490 from https://www.jython.org\n",
            "ForkPoolWorker-2:Read 10490 from https://www.jython.org\n",
            "ForkPoolWorker-1:Read 278 from http://olympus.realpython.org/dice\n",
            "ForkPoolWorker-2:Read 278 from http://olympus.realpython.org/dice\n",
            "ForkPoolWorker-1:Read 10490 from https://www.jython.org\n",
            "ForkPoolWorker-2:Read 10490 from https://www.jython.org\n",
            "ForkPoolWorker-1:Read 278 from http://olympus.realpython.org/dice\n",
            "ForkPoolWorker-2:Read 278 from http://olympus.realpython.org/dice\n",
            "ForkPoolWorker-1:Read 10490 from https://www.jython.org\n",
            "ForkPoolWorker-2:Read 10490 from https://www.jython.org\n",
            "ForkPoolWorker-1:Read 278 from http://olympus.realpython.org/dice\n",
            "ForkPoolWorker-2:Read 278 from http://olympus.realpython.org/dice\n",
            "ForkPoolWorker-1:Read 10490 from https://www.jython.org\n",
            "ForkPoolWorker-2:Read 10490 from https://www.jython.org\n",
            "ForkPoolWorker-1:Read 278 from http://olympus.realpython.org/dice\n",
            "ForkPoolWorker-2:Read 278 from http://olympus.realpython.org/dice\n",
            "ForkPoolWorker-1:Read 10490 from https://www.jython.org\n",
            "ForkPoolWorker-2:Read 10490 from https://www.jython.org\n",
            "ForkPoolWorker-1:Read 278 from http://olympus.realpython.org/dice\n",
            "ForkPoolWorker-2:Read 278 from http://olympus.realpython.org/dice\n",
            "ForkPoolWorker-1:Read 10490 from https://www.jython.org\n",
            "ForkPoolWorker-2:Read 10490 from https://www.jython.org\n",
            "ForkPoolWorker-1:Read 278 from http://olympus.realpython.org/dice\n",
            "ForkPoolWorker-2:Read 278 from http://olympus.realpython.org/dice\n",
            "ForkPoolWorker-1:Read 10490 from https://www.jython.org\n",
            "ForkPoolWorker-2:Read 10490 from https://www.jython.org\n",
            "ForkPoolWorker-1:Read 278 from http://olympus.realpython.org/dice\n",
            "ForkPoolWorker-2:Read 278 from http://olympus.realpython.org/dice\n",
            "ForkPoolWorker-1:Read 10490 from https://www.jython.org\n",
            "ForkPoolWorker-2:Read 10490 from https://www.jython.org\n",
            "ForkPoolWorker-1:Read 278 from http://olympus.realpython.org/dice\n",
            "ForkPoolWorker-2:Read 278 from http://olympus.realpython.org/dice\n",
            "ForkPoolWorker-1:Read 10490 from https://www.jython.org\n",
            "ForkPoolWorker-2:Read 10490 from https://www.jython.org\n",
            "ForkPoolWorker-1:Read 278 from http://olympus.realpython.org/dice\n",
            "ForkPoolWorker-2:Read 278 from http://olympus.realpython.org/dice\n",
            "ForkPoolWorker-1:Read 10490 from https://www.jython.org\n",
            "ForkPoolWorker-2:Read 10490 from https://www.jython.org\n",
            "ForkPoolWorker-1:Read 278 from http://olympus.realpython.org/dice\n",
            "ForkPoolWorker-2:Read 278 from http://olympus.realpython.org/dice\n",
            "ForkPoolWorker-1:Read 10490 from https://www.jython.org\n",
            "ForkPoolWorker-2:Read 10490 from https://www.jython.org\n",
            "ForkPoolWorker-1:Read 278 from http://olympus.realpython.org/dice\n",
            "ForkPoolWorker-2:Read 278 from http://olympus.realpython.org/dice\n",
            "ForkPoolWorker-1:Read 10490 from https://www.jython.org\n",
            "ForkPoolWorker-2:Read 10490 from https://www.jython.org\n",
            "ForkPoolWorker-1:Read 278 from http://olympus.realpython.org/dice\n",
            "ForkPoolWorker-2:Read 278 from http://olympus.realpython.org/dice\n",
            "ForkPoolWorker-1:Read 10490 from https://www.jython.org\n",
            "ForkPoolWorker-1:Read 278 from http://olympus.realpython.org/dice\n",
            "Downloaded 160 in 2.4312291145324707 seconds\n"
          ]
        }
      ]
    },
    {
      "cell_type": "markdown",
      "metadata": {
        "id": "cmgiJAiQbXI7"
      },
      "source": [
        "## **How to Speed Up a CPU-Bound Program**\n",
        "\n",
        "Let’s shift gears here a little bit. The examples so far have all dealt with an I/O-bound problem. Now, you’ll look into a CPU-bound problem. As you saw, an I/O-bound problem spends most of its time waiting for external operations, like a network call, to complete. A CPU-bound problem, on the other hand, does few I/O operations, and its overall execution time is a factor of how fast it can process the required data.\n",
        "\n",
        "For the purposes of our example, we’ll use a somewhat silly function to create something that takes a long time to run on the CPU. This function computes the sum of the squares of each number from 0 to the passed-in value:"
      ]
    },
    {
      "cell_type": "code",
      "metadata": {
        "id": "zssyv4UAcBke"
      },
      "source": [
        "def cpu_bound(number):\n",
        "    return sum(i * i for i in range(number))"
      ],
      "execution_count": 3,
      "outputs": []
    },
    {
      "cell_type": "markdown",
      "metadata": {
        "id": "3on5TlFQcNZV"
      },
      "source": [
        "You’ll be passing in large numbers, so this will take a while. Remember, this is just a placeholder for your code that actually does something useful and requires significant processing time, like computing the roots of equations or sorting a large data structure."
      ]
    },
    {
      "cell_type": "code",
      "metadata": {
        "colab": {
          "base_uri": "https://localhost:8080/"
        },
        "id": "Q8a05oAZcOA5",
        "outputId": "13c1e026-9abf-4e11-b6e5-5d8c1810f465"
      },
      "source": [
        "# Synchronous Version \n",
        "\n",
        "import time\n",
        "\n",
        "def cpu_bound(number):\n",
        "    return sum(i * i for i in range(number))\n",
        "\n",
        "\n",
        "def find_sums(numbers):\n",
        "    for number in numbers:\n",
        "        cpu_bound(number)\n",
        "\n",
        "\n",
        "if __name__ == \"__main__\":\n",
        "    numbers = [5_000_000 + x for x in range(20)]\n",
        "\n",
        "    start_time = time.time()\n",
        "    find_sums(numbers)\n",
        "    duration = time.time() - start_time\n",
        "    print(f\"Duration {duration} seconds\")"
      ],
      "execution_count": 4,
      "outputs": [
        {
          "output_type": "stream",
          "name": "stdout",
          "text": [
            "Duration 11.141467571258545 seconds\n"
          ]
        }
      ]
    },
    {
      "cell_type": "markdown",
      "metadata": {
        "id": "PgPRE8QncpNs"
      },
      "source": [
        "### **Threading and Asyncio versions**\n",
        "How much do you think rewriting this code using threading or asyncio will speed this up?\n",
        "\n",
        "If you answered “Not at all,” give yourself a cookie. If you answered, “It will slow it down,” give yourself two cookies.\n",
        "\n",
        "Here’s why: In your I/O-bound example above, much of the overall time was spent waiting for slow operations to finish. threading and asyncio sped this up by allowing you to overlap the times you were waiting instead of doing them sequentially.\n",
        "\n",
        "On a CPU-bound problem, however, there is no waiting. The CPU is cranking away as fast as it can to finish the problem. In Python, both threads and tasks run on the same CPU in the same process. That means that the one CPU is doing all of the work of the non-concurrent code plus the extra work of setting up threads or tasks. It takes more than 10 seconds:"
      ]
    },
    {
      "cell_type": "code",
      "metadata": {
        "colab": {
          "base_uri": "https://localhost:8080/"
        },
        "id": "X0Tz6-X4cowq",
        "outputId": "6e980143-e18f-4e7f-e50b-3e560b4ffd0b"
      },
      "source": [
        "# Threading \n",
        "\n",
        "import concurrent.futures\n",
        "import time\n",
        "\n",
        "\n",
        "def cpu_bound(number):\n",
        "    return sum(i * i for i in range(number))\n",
        "\n",
        "\n",
        "def find_sums(numbers):\n",
        "    with concurrent.futures.ThreadPoolExecutor(max_workers=5) as executor:\n",
        "        executor.map(cpu_bound, numbers)\n",
        "\n",
        "\n",
        "if __name__ == \"__main__\":\n",
        "    numbers = [5_000_000 + x for x in range(20)]\n",
        "\n",
        "    start_time = time.time()\n",
        "    find_sums(numbers)\n",
        "    duration = time.time() - start_time\n",
        "    print(f\"Duration {duration} seconds\")"
      ],
      "execution_count": 3,
      "outputs": [
        {
          "output_type": "stream",
          "name": "stdout",
          "text": [
            "Duration 10.699211597442627 seconds\n"
          ]
        }
      ]
    },
    {
      "cell_type": "markdown",
      "metadata": {
        "id": "Cysv-rzmdG6q"
      },
      "source": [
        "### **CPU-Bound multiprocessing Version**\n",
        "Now you’ve finally reached where multiprocessing really shines. Unlike the other concurrency libraries, multiprocessing is explicitly designed to share heavy CPU workloads across multiple CPUs. Here’s what its execution timing diagram looks like:"
      ]
    },
    {
      "cell_type": "code",
      "metadata": {
        "colab": {
          "base_uri": "https://localhost:8080/"
        },
        "id": "bctqLWJbdK2M",
        "outputId": "b3900793-3662-4568-df04-c15b5175a851"
      },
      "source": [
        "import multiprocessing\n",
        "import time\n",
        "\n",
        "def cpu_bound(number):\n",
        "    return sum(i * i for i in range(number))\n",
        "\n",
        "\n",
        "def find_sums(numbers):\n",
        "    with multiprocessing.Pool() as pool:\n",
        "        pool.map(cpu_bound, numbers)\n",
        "\n",
        "\n",
        "if __name__ == \"__main__\":\n",
        "    numbers = [5_000_000 + x for x in range(20)]\n",
        "\n",
        "    start_time = time.time()\n",
        "    find_sums(numbers)\n",
        "    duration = time.time() - start_time\n",
        "    print(f\"Duration {duration} seconds\")"
      ],
      "execution_count": 1,
      "outputs": [
        {
          "output_type": "stream",
          "name": "stdout",
          "text": [
            "Duration 12.872897863388062 seconds\n"
          ]
        }
      ]
    },
    {
      "cell_type": "markdown",
      "metadata": {
        "id": "Zt6dMwjed1l3"
      },
      "source": [
        "Little of this code had to change from the non-concurrent version. You had to import multiprocessing and then just change from looping through the numbers to creating a multiprocessing.Pool object and using its .map() method to send individual numbers to worker-processes as they become free.\n",
        "\n",
        "This was just what you did for the I/O-bound multiprocessing code, but here you don’t need to worry about the Session object.\n",
        "\n",
        "As mentioned above, the processes optional parameter to the multiprocessing.Pool() constructor deserves some attention. You can specify how many Process objects you want created and managed in the Pool. By default, it will determine how many CPUs are in your machine and create a process for each one. While this works great for our simple example, you might want to have a little more control in a production environment.\n",
        "\n",
        "Also, as we mentioned in the first section about threading, the multiprocessing.Pool code is built upon building blocks like Queue and Semaphore that will be familiar to those of you who have done multithreaded and multiprocessing code in other languages.\n",
        "\n",
        "Why the multiprocessing Version Rocks\n",
        "\n",
        "The multiprocessing version of this example is great because it’s relatively easy to set up and requires little extra code. It also takes full advantage of the CPU power in your computer.\n",
        "\n",
        "Hey, that’s exactly what I said the last time we looked at multiprocessing. The big difference is that this time it is clearly the best option. It takes 2.5 seconds on my machine:"
      ]
    }
  ]
}