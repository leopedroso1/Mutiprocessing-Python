{
  "nbformat": 4,
  "nbformat_minor": 0,
  "metadata": {
    "colab": {
      "name": "Multiprocessing Python.ipynb",
      "provenance": [],
      "authorship_tag": "ABX9TyNoWiygsgPD1ghABxlwSmnW",
      "include_colab_link": true
    },
    "kernelspec": {
      "name": "python3",
      "display_name": "Python 3"
    },
    "language_info": {
      "name": "python"
    }
  },
  "cells": [
    {
      "cell_type": "markdown",
      "metadata": {
        "id": "view-in-github",
        "colab_type": "text"
      },
      "source": [
        "<a href=\"https://colab.research.google.com/github/leopedroso1/Mutiprocessing-Python/blob/main/Multiprocessing_Python.ipynb\" target=\"_parent\"><img src=\"https://colab.research.google.com/assets/colab-badge.svg\" alt=\"Open In Colab\"/></a>"
      ]
    },
    {
      "cell_type": "markdown",
      "metadata": {
        "id": "VOQj79_Lat-s"
      },
      "source": [
        "### Python Multiprocessing Module - Resume"
      ]
    },
    {
      "cell_type": "code",
      "metadata": {
        "colab": {
          "base_uri": "https://localhost:8080/"
        },
        "id": "rKlHuoa4aqy4",
        "outputId": "a6ffcf08-55fb-4559-ab30-6874f130eefa"
      },
      "source": [
        "from multiprocessing import Pool\n",
        "\n",
        "def f(x):\n",
        "  return x*x\n",
        "\n",
        "with Pool(5) as p:\n",
        "  print(p.map(f,[1,2,3]))"
      ],
      "execution_count": 4,
      "outputs": [
        {
          "output_type": "stream",
          "name": "stdout",
          "text": [
            "[1, 4, 9]\n"
          ]
        }
      ]
    },
    {
      "cell_type": "code",
      "metadata": {
        "colab": {
          "base_uri": "https://localhost:8080/"
        },
        "id": "a37FW-ina34o",
        "outputId": "610cf4d3-ae0e-43cb-e810-b0f8abe72866"
      },
      "source": [
        "import multiprocessing\n",
        "\n",
        "multiprocessing.cpu_count()"
      ],
      "execution_count": 5,
      "outputs": [
        {
          "output_type": "execute_result",
          "data": {
            "text/plain": [
              "2"
            ]
          },
          "metadata": {},
          "execution_count": 5
        }
      ]
    },
    {
      "cell_type": "markdown",
      "metadata": {
        "id": "A7AIGeMZbWnw"
      },
      "source": [
        "* A multiprocessor: a computer with more than one central processor.\n",
        "* A multi-core processor: a single computing component with more than one independent actual processing units/ cores.\n",
        "\n",
        "In either case, the CPU is able to execute multiple tasks at once assigning a processor to each task."
      ]
    },
    {
      "cell_type": "markdown",
      "metadata": {
        "id": "N9Tt0oaWble5"
      },
      "source": [
        "### Python Multiprocessing Process Class\n",
        "\n",
        "Let’s talk about the Process class in Python Multiprocessing first. This is an abstraction to set up another process and lets the parent application control execution.\n",
        "\n",
        "Here, we observe the start() and join() methods. Let’s first take an example."
      ]
    },
    {
      "cell_type": "code",
      "metadata": {
        "colab": {
          "base_uri": "https://localhost:8080/"
        },
        "id": "lueJyu6abTfI",
        "outputId": "8b12f4d2-7797-41e1-fd2e-2bbbb661e791"
      },
      "source": [
        "import multiprocessing\n",
        "from multiprocessing import Process\n",
        "\n",
        "def testing():\n",
        "      print(\"Works\")\n",
        "\n",
        "def square(n):\n",
        "       print(\"The number squares to \",n**2)\n",
        "\n",
        "def cube(n):\n",
        "       print(\"The number cubes to \",n**3)\n",
        "\n",
        "if __name__==\"__main__\":\n",
        "   p1=Process(target=square,args=(7,))\n",
        "   p2=Process(target=cube,args=(7,))\n",
        "   p3=Process(target=testing)\n",
        "   p1.start()\n",
        "   p2.start()\n",
        "   p3.start()\n",
        "   p1.join()\n",
        "   p2.join()\n",
        "   p3.join()\n",
        "   print(\"We're done\")"
      ],
      "execution_count": 27,
      "outputs": [
        {
          "output_type": "stream",
          "name": "stdout",
          "text": [
            "The number squares to  49\n",
            "The number cubes to  343\n",
            "Works\n",
            "We're done\n"
          ]
        }
      ]
    },
    {
      "cell_type": "markdown",
      "metadata": {
        "id": "FwDp96qQb60-"
      },
      "source": [
        "Let’s understand this piece of code. **Process() lets us instantiate the Process class. start() tells Python to begin processing.**\n",
        "\n",
        "But then if we let it be, it consumes resources and we may run out of those at a later point in time. This is because it lets the process stay idle and not terminate.\n",
        "\n",
        "To avoid this, we make a call to join(). With this, we don’t have to kill them manually. Join stops execution of the current program until a process completes.\n",
        "\n",
        "This makes sure the program waits for p1 to complete and then p2 to complete. Then, it executes the next statements of the program.\n",
        "\n",
        "One last thing, the args keyword argument lets us specify the values of the argument to pass. Also, target lets us select the function for the process to execute."
      ]
    },
    {
      "cell_type": "markdown",
      "metadata": {
        "id": "CUqNlNYkcZbm"
      },
      "source": [
        "### Getting Information about Processes in Python\n",
        "\n",
        "1. Getting Process ID and checking if alive\n",
        "We may want to get the ID of a process or that of one of its child. We may also want to find out if it is still alive. The following program demonstrates this functionality:"
      ]
    },
    {
      "cell_type": "code",
      "metadata": {
        "id": "IsUk2TTWcW1J"
      },
      "source": [
        "import multiprocessing\n",
        "import os\n",
        "from multiprocessing import Process\n",
        "\n",
        "def child1():\n",
        "     print(\"Child 1\",os.getpid())\n",
        "\n",
        "def child2():\n",
        "        print(\"Child 2\",os.getpid())\n",
        "\n",
        "if __name__==\"__main__\":\n",
        "   print(\"Parent ID\",os.getpid())\n",
        "   p1=Process(target=child1)\n",
        "   p2=Process(target=child2)\n",
        "   p1.start()\n",
        "   p2.start()\n",
        "   p1.join()\n",
        "   alive='Yes' if p1.is_alive() else 'No'\n",
        "   print(\"Is p1 alive?\",alive)\n",
        "   alive='Yes' if p2.is_alive() else 'No'\n",
        "   print(\"Is p2 alive?\",alive)\n",
        "   p2.join()\n",
        "   print(\"We're done\")"
      ],
      "execution_count": null,
      "outputs": []
    },
    {
      "cell_type": "markdown",
      "metadata": {
        "id": "9IFg78ufcviY"
      },
      "source": [
        "In Python multiprocessing, each process occupies its own memory space to run independently. It terminates when the target function is done executing.\n",
        "\n",
        "2. Getting Process Name\n",
        "We can also set names for processes so we can retrieve them when we want. This is to make it more human-readable."
      ]
    },
    {
      "cell_type": "code",
      "metadata": {
        "colab": {
          "base_uri": "https://localhost:8080/"
        },
        "id": "E_CROPDRcs3I",
        "outputId": "546d1ff3-7194-45c5-fa13-5de225902f3e"
      },
      "source": [
        "import multiprocessing\n",
        "from multiprocessing import Process, current_process\n",
        "import os\n",
        "\n",
        "def child1():\n",
        "     print(current_process().name)\n",
        "\n",
        "def child2():\n",
        "         print(current_process().name)\n",
        "\n",
        "if __name__==\"__main__\":\n",
        "   print(\"Parent ID\",os.getpid())\n",
        "   p1=Process(target=child1,name='Child 1')\n",
        "   p2=Process(target=child2,name='Child 2')\n",
        "   p1.start()\n",
        "   p2.start()\n",
        "   p1.join()\n",
        "   p2.join()\n",
        "   print(\"We're done\")"
      ],
      "execution_count": 28,
      "outputs": [
        {
          "output_type": "stream",
          "name": "stdout",
          "text": [
            "Parent ID 68\n",
            "Child 1\n",
            "Child 2\n",
            "We're done\n"
          ]
        }
      ]
    },
    {
      "cell_type": "markdown",
      "metadata": {
        "id": "aICsg3vJc8GO"
      },
      "source": [
        "As you can see, the current_process() method gives us the name of the process that calls our function. See what happens when we don’t assign a name to one of the processes:"
      ]
    },
    {
      "cell_type": "code",
      "metadata": {
        "colab": {
          "base_uri": "https://localhost:8080/"
        },
        "id": "F3J7Yj_Rc-aV",
        "outputId": "d55b94e9-906f-4540-f06a-4bd720848467"
      },
      "source": [
        "import multiprocessing\n",
        "import os\n",
        "from multiprocessing import Process, current_process\n",
        "\n",
        "def child1():\n",
        "        print(current_process().name)\n",
        "\n",
        "def child2():\n",
        "        print(current_process().name)\n",
        "\n",
        "if __name__==\"__main__\":\n",
        "   print(\"Parent ID\",os.getpid())\n",
        "   p1=Process(target=child1)\n",
        "   p2=Process(target=child2,name='Child 2')\n",
        "   p1.start()\n",
        "   p2.start()\n",
        "   p1.join()\n",
        "   p2.join()\n",
        "   print(\"We're done\")"
      ],
      "execution_count": 29,
      "outputs": [
        {
          "output_type": "stream",
          "name": "stdout",
          "text": [
            "Parent ID 68\n",
            "Child 2\n",
            "Process-74\n",
            "We're done\n"
          ]
        }
      ]
    },
    {
      "cell_type": "markdown",
      "metadata": {
        "id": "OeC3214qdMZM"
      },
      "source": [
        "Well, the Python Multiprocessing Module assigns a number to each process as a part of its name when we don’t.\n",
        "\n",
        "Python Multiprocessing Lock\n",
        "Just like the threading module, multiprocessing in Python supports locks. The process involves importing Lock, acquiring it, doing something, and then releasing it. Let’s take a look.\n",
        "\n",
        "In the following piece of code, we make a process acquire a lock while it does its job."
      ]
    },
    {
      "cell_type": "code",
      "metadata": {
        "id": "ObgdYtAbdKBd"
      },
      "source": [
        "from multiprocessing import Process, Lock\n",
        "\n",
        "lock=Lock()\n",
        "\n",
        "def printer(item):\n",
        "  lock.acquire()\n",
        "  try:\n",
        "      print(item)\n",
        "  finally:\n",
        "      lock.release()\n",
        "\n",
        "if __name__==\"__main__\":\n",
        "  items=['nacho','salsa',7]\n",
        "  for item in items:\n",
        "     p=Process(target=printer,args=(item,))\n",
        "     p.start()"
      ],
      "execution_count": null,
      "outputs": []
    },
    {
      "cell_type": "markdown",
      "metadata": {
        "id": "Dv6fiow0dkmb"
      },
      "source": [
        "### **Python Multiprocessing Pool Class**\n",
        "\n",
        "This class represents a pool of worker processes; its methods let us offload tasks to such processes. Let’s take an example (Make a module out of this and run it)."
      ]
    },
    {
      "cell_type": "code",
      "metadata": {
        "id": "Qz_tsB3TdoYZ"
      },
      "source": [
        "from multiprocessing import Pool\n",
        "\n",
        "def double(n):\n",
        "   return n*2\n",
        "   \n",
        "if __name__=='__main__':\n",
        "   nums=[2,3,6]\n",
        "   pool=Pool(processes=3)\n",
        "   print(pool.map(double,nums)"
      ],
      "execution_count": null,
      "outputs": []
    },
    {
      "cell_type": "markdown",
      "metadata": {
        "id": "2I4GjDApds5q"
      },
      "source": [
        "We create an instance of Pool and have it create a 3-worker process. map() maps the function double and an iterable to each process. The result gives us [4,6,12].\n",
        "\n",
        "Another method that gets us the result of our processes in a pool is the apply_async() method."
      ]
    },
    {
      "cell_type": "code",
      "metadata": {
        "id": "u-i5ovRqdq91"
      },
      "source": [
        "from multiprocessing import Pool\n",
        "\n",
        "def double(n):\n",
        "   return n*2\n",
        "   \n",
        "if __name__=='__main__':\n",
        "   pool=Pool(processes=3)\n",
        "   result=pool.apply_async(double,(7,))\n",
        "   print(result.get(timeout=1))"
      ],
      "execution_count": null,
      "outputs": []
    }
  ]
}